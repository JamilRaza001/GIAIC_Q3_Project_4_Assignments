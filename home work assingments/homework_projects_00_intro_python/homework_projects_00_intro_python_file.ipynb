{
  "nbformat": 4,
  "nbformat_minor": 0,
  "metadata": {
    "colab": {
      "provenance": []
    },
    "kernelspec": {
      "name": "python3",
      "display_name": "Python 3"
    },
    "language_info": {
      "name": "python"
    }
  },
  "cells": [
    {
      "cell_type": "markdown",
      "source": [
        "# **Homework Projects**"
      ],
      "metadata": {
        "id": "oPUc6yTEyBhU"
      }
    },
    {
      "cell_type": "markdown",
      "source": [
        "# **00 Intro Python**\n"
      ],
      "metadata": {
        "id": "noJ1EzLEyl5P"
      }
    },
    {
      "cell_type": "markdown",
      "source": [
        "**01 add two numbers**\n",
        "\n",
        "Problem Statement\n",
        "Write a Python program that takes two integer inputs from the user and calculates their sum. The program should perform the following tasks:\n",
        "\n",
        "Prompt the user to enter the first number.\n",
        "\n",
        "Read the input and convert it to an integer.\n",
        "\n",
        "Prompt the user to enter the second number.\n",
        "\n",
        "Read the input and convert it to an integer.\n",
        "\n",
        "Calculate the sum of the two numbers.\n",
        "\n",
        "Print the total sum with an appropriate message.\n",
        "\n",
        "The provided solution demonstrates a working implementation of this problem, where the main() function guides the user through the process of entering two numbers and displays their sum."
      ],
      "metadata": {
        "id": "6Gzj9_sSyv7g"
      }
    },
    {
      "cell_type": "code",
      "source": [
        "# my approuch\n",
        "num1:int = int(input(\"Enter the first number: \"))\n",
        "num2:int = int(input(\"Enter the second number: \"))\n",
        "print(f'The sum of {num1} and {num2} is {num1 + num2}')"
      ],
      "metadata": {
        "colab": {
          "base_uri": "https://localhost:8080/"
        },
        "id": "pYbyLow92QNy",
        "outputId": "11ef23e9-4aef-4625-fb97-1955d2b6b594"
      },
      "execution_count": 5,
      "outputs": [
        {
          "output_type": "stream",
          "name": "stdout",
          "text": [
            "Enter the first number: 10\n",
            "Enter the second number: 10\n",
            "The sum of 10 and 10 is 20\n"
          ]
        }
      ]
    },
    {
      "cell_type": "code",
      "execution_count": 4,
      "metadata": {
        "colab": {
          "base_uri": "https://localhost:8080/"
        },
        "id": "cPgL0uUfx9Gh",
        "outputId": "2219f816-1c15-4813-9d62-21ad71ec108b"
      },
      "outputs": [
        {
          "output_type": "stream",
          "name": "stdout",
          "text": [
            "Enter the first number: 10\n",
            "Enter the second number: 45\n",
            "The sum of 10 and 45 is 55\n"
          ]
        }
      ],
      "source": [
        "# repositry approuch\n",
        "def sum_two_numbers():\n",
        "    # Prompt the user to enter the first number\n",
        "    num1:int = int(input(\"Enter the first number: \"))\n",
        "\n",
        "    # Prompt the user to enter the second number\n",
        "    num2:int = int(input(\"Enter the second number: \"))\n",
        "\n",
        "    sum:int = num1 + num2\n",
        "\n",
        "    print(f'The sum of {num1} and {num2} is {sum}')\n",
        "\n",
        "\n",
        "if __name__ == '__main__':\n",
        "    sum_two_numbers()"
      ]
    },
    {
      "cell_type": "markdown",
      "source": [
        "**02 Agreement Bot**\n",
        "\n",
        "Problem Statement\n",
        "\n",
        "Write a program which asks the user what their favorite animal is, and then always responds with \"My favorite animal is also ___!\" (the blank should be filled in with the user-inputted animal, of course).\n",
        "\n",
        "Here's a sample run of the program (user input is in bold italics - note the space between the prompt and the user input!):\n",
        "\n",
        "What's your favorite animal? cow\n",
        "\n",
        "My favorite animal is also cow!"
      ],
      "metadata": {
        "id": "JNyLEyFp1hDf"
      }
    },
    {
      "cell_type": "code",
      "source": [
        "fav_animal:str = input(\"What's your favorite animal? \")\n",
        "print(f'My favorite animal is also {fav_animal}!')"
      ],
      "metadata": {
        "colab": {
          "base_uri": "https://localhost:8080/"
        },
        "id": "LuptUyiSznoL",
        "outputId": "ba944ffc-05c4-4bc1-977d-30c8521c0c22"
      },
      "execution_count": 6,
      "outputs": [
        {
          "output_type": "stream",
          "name": "stdout",
          "text": [
            "What's your favorite animal? Loin\n",
            "My favorite animal is also Loin!\n"
          ]
        }
      ]
    },
    {
      "cell_type": "markdown",
      "source": [
        "**03 Fahrenheit to Celsius**\n",
        "\n",
        "Problem Statement\n",
        "\n",
        "Write a program which prompts the user for a temperature in Fahrenheit (this can be a number with decimal places!) and outputs the temperature converted to Celsius.\n",
        "\n",
        "The Celsius scale is widely used to measure temperature, but places still use Fahrenheit. Fahrenheit is another unit for temperature, but the scale is different from Celsius -- for example, 0 degrees Celsius is 32 degrees Fahrenheit!\n",
        "\n",
        "The equation you should use for converting from Fahrenheit to Celsius is the following:\n",
        "\n",
        "degrees_celsius = (degrees_fahrenheit - 32) * 5.0/9.0\n",
        "\n",
        "(Note. The .0 after the 5 and 9 matters in the line above!!!)\n",
        "\n",
        "Here's a sample run of the program (user input is in bold italics):\n",
        "\n",
        "Enter temperature in Fahrenheit: 76\n",
        "\n",
        "Temperature: 76.0F = 24.444444444444443C\n",
        "\n"
      ],
      "metadata": {
        "id": "_cjW2Dri24wE"
      }
    },
    {
      "cell_type": "code",
      "source": [
        "# My approuch\n",
        "temp_fahrenheit:float = float(input(\"Enter temperature in Fahrenheit: \"))\n",
        "temp_celsius:float = (temp_fahrenheit - 32) * 5.0/9.0\n",
        "print(f'The temperature in {temp_fahrenheit} F is equal to {temp_celsius} C')"
      ],
      "metadata": {
        "colab": {
          "base_uri": "https://localhost:8080/"
        },
        "id": "fwIx_dgu3JsS",
        "outputId": "60b7584d-e759-4fda-b155-5628ae281f9a"
      },
      "execution_count": 9,
      "outputs": [
        {
          "output_type": "stream",
          "name": "stdout",
          "text": [
            "Enter temperature in Fahrenheit: 104\n",
            "The temperature in 104.0 F is equal to 40.0 C\n"
          ]
        }
      ]
    },
    {
      "cell_type": "code",
      "source": [
        "# repository approuch\n",
        "def convert_temp():\n",
        "    temp_fahrenheit:float = float(input(\"Enter temperature in Fahrenheit: \"))\n",
        "    temp_celsius:float = (temp_fahrenheit - 32) * 5.0/9.0\n",
        "    print(f'The temperature in {temp_fahrenheit} F is equal to {temp_celsius} C')\n",
        "\n",
        "if __name__ == '__main__':\n",
        "    convert_temp()"
      ],
      "metadata": {
        "colab": {
          "base_uri": "https://localhost:8080/"
        },
        "id": "WjF280ke4MY-",
        "outputId": "ae331752-4e16-4e9e-c7cc-f9974b82cff3"
      },
      "execution_count": 10,
      "outputs": [
        {
          "output_type": "stream",
          "name": "stdout",
          "text": [
            "Enter temperature in Fahrenheit: 106\n",
            "The temperature in 106.0 F is equal to 41.111111111111114 C\n"
          ]
        }
      ]
    },
    {
      "cell_type": "markdown",
      "source": [
        "**04 How Old Are They**\n",
        "\n",
        "Problem Statement\n",
        "\n",
        "Write a program to solve this age-related riddle!\n",
        "\n",
        "Anton, Beth, Chen, Drew, and Ethan are all friends. Their ages are as follows:\n",
        "\n",
        "Anton is 21 years old.\n",
        "\n",
        "Beth is 6 years older than Anton.\n",
        "\n",
        "Chen is 20 years older than Beth.\n",
        "\n",
        "Drew is as old as Chen's age plus Anton's age.\n",
        "\n",
        "Ethan is the same age as Chen.\n",
        "\n",
        "Your code should store each person's age to a variable and print their names and ages at the end. The autograder is sensitive to capitalization and punctuation, be careful! Your solution should look like this (the below numbers are made up -- your solution should have the correct values!):"
      ],
      "metadata": {
        "id": "vm0D3hoA4wbv"
      }
    },
    {
      "cell_type": "code",
      "source": [
        "Aton_age:int = 21\n",
        "Beth_age:int = Aton_age + 6\n",
        "Chen_age:int = Beth_age + 20\n",
        "Drew_age:int = Chen_age + Aton_age\n",
        "Ethan_age:int = Chen_age\n",
        "\n",
        "print(f'''Aton is {Aton_age} years old.\n",
        "\n",
        "Beth is {Beth_age} years old.\n",
        "\n",
        "Chen is {Chen_age} years old.\n",
        "\n",
        "Drew is {Drew_age} years old.\n",
        "\n",
        "Ethan is {Ethan_age} years old.\n",
        "''')"
      ],
      "metadata": {
        "colab": {
          "base_uri": "https://localhost:8080/"
        },
        "id": "pZ7TuhCX4six",
        "outputId": "1569f666-db27-47bf-89c7-20546616c39b"
      },
      "execution_count": 11,
      "outputs": [
        {
          "output_type": "stream",
          "name": "stdout",
          "text": [
            "Aton is 21 years old.\n",
            "\n",
            "Beth is 27 years old.\n",
            "\n",
            "Chen is 47 years old.\n",
            "\n",
            "Drew is 68 years old.\n",
            "\n",
            "Ethan is 47 years old.\n",
            "\n"
          ]
        }
      ]
    },
    {
      "cell_type": "markdown",
      "source": [
        "**05 Triangle Perimeter**\n",
        "\n",
        "Problem Statement\n",
        "\n",
        "Prompt the user to enter the lengths of each side of a triangle and then calculate and print the perimeter of the triangle (the sum of all of the side lengths).\n",
        "\n",
        "Here's a sample run of the program (user input is in bold italics):\n",
        "\n",
        "What is the length of side 1? 3\n",
        "\n",
        "What is the length of side 2? 4\n",
        "\n",
        "What is the length of side 3? 5.5\n",
        "\n",
        "The perimeter of the triangle is 12.5"
      ],
      "metadata": {
        "id": "oCfV1J_36rAc"
      }
    },
    {
      "cell_type": "code",
      "source": [
        "# My approuch\n",
        "len_side_1:float = float(input(\"What is the length of side 1? \"))\n",
        "len_side_2:float = float(input(\"What is the length of side 2? \"))\n",
        "len_side_3:float = float(input(\"What is the length of side 3? \"))\n",
        "\n",
        "print(f'The perimeter of the triangle is {len_side_1 + len_side_2 + len_side_3}')"
      ],
      "metadata": {
        "colab": {
          "base_uri": "https://localhost:8080/"
        },
        "id": "lHVB1lQm6J-K",
        "outputId": "a9655c57-eff1-4068-9f80-fed4fcab4a8f"
      },
      "execution_count": 12,
      "outputs": [
        {
          "output_type": "stream",
          "name": "stdout",
          "text": [
            "What is the length of side 1? 12\n",
            "What is the length of side 2? 2\n",
            "What is the length of side 3? 4.98\n",
            "The perimeter of the triangle is 18.98\n"
          ]
        }
      ]
    },
    {
      "cell_type": "code",
      "source": [
        "# repository approuch\n",
        "\n",
        "def calculate_triangle_perimeter():\n",
        "    len_side_1:float = float(input(\"What is the length of side 1? \"))\n",
        "    len_side_2:float = float(input(\"What is the length of side 2? \"))\n",
        "    len_side_3:float = float(input(\"What is the length of side 3? \"))\n",
        "\n",
        "    perimeter:float = len_side_1 + len_side_2 + len_side_3\n",
        "\n",
        "    print(f\"The perimeter of the triangle is {perimeter}\")\n",
        "\n",
        "if __name__=='__main__':\n",
        "  calculate_triangle_perimeter()"
      ],
      "metadata": {
        "colab": {
          "base_uri": "https://localhost:8080/"
        },
        "id": "R54TPocm7dnM",
        "outputId": "0e362ee8-c748-41c7-c8c3-ea74bf252036"
      },
      "execution_count": 14,
      "outputs": [
        {
          "output_type": "stream",
          "name": "stdout",
          "text": [
            "What is the length of side 1? 23.45\n",
            "What is the length of side 2? .4983\n",
            "What is the length of side 3? 79\n",
            "The perimeter of the triangle is 102.9483\n"
          ]
        }
      ]
    },
    {
      "cell_type": "markdown",
      "source": [
        "**06 Square Number**\n",
        "\n",
        "Problem Statement\n",
        "\n",
        "Ask the user for a number and print its square (the product of the number times itself).\n",
        "\n",
        "Here's a sample run of the program (user input is in bold italics):\n",
        "\n",
        "Type a number to see its square: 4\n",
        "\n",
        "4.0 squared is 16.0"
      ],
      "metadata": {
        "id": "bl2JuWiI8HZV"
      }
    },
    {
      "cell_type": "code",
      "source": [
        "# My approuch\n",
        "num:float = float(input(\"Type a number to see its square: \"))\n",
        "print(f'{num} squared is {num**2}')"
      ],
      "metadata": {
        "colab": {
          "base_uri": "https://localhost:8080/"
        },
        "id": "iq0ZOAaF77ix",
        "outputId": "1d59b666-5bba-4682-e5b3-cae0de4f6706"
      },
      "execution_count": 16,
      "outputs": [
        {
          "output_type": "stream",
          "name": "stdout",
          "text": [
            "Type a number to see its square: 90.7548\n",
            "90.7548 squared is 8236.43372304\n"
          ]
        }
      ]
    },
    {
      "cell_type": "code",
      "source": [
        "# respository approuch\n",
        "def calculate_square():\n",
        "    num:float = float(input(\"Type a number to see its square: \"))\n",
        "    sq_num:float = num**2\n",
        "    print(f'{num} squared is {sq_num}')\n",
        "\n",
        "if __name__ == '__main__':\n",
        "    calculate_square()\n",
        "#"
      ],
      "metadata": {
        "colab": {
          "base_uri": "https://localhost:8080/"
        },
        "id": "8jx0gUce8kRa",
        "outputId": "fe4b6bf4-0c73-48b5-c513-8013179d0876"
      },
      "execution_count": 17,
      "outputs": [
        {
          "output_type": "stream",
          "name": "stdout",
          "text": [
            "Type a number to see its square: 8\n",
            "8.0 squared is 64.0\n"
          ]
        }
      ]
    },
    {
      "cell_type": "code",
      "source": [],
      "metadata": {
        "id": "-LWgAxHU82Or"
      },
      "execution_count": null,
      "outputs": []
    }
  ]
}