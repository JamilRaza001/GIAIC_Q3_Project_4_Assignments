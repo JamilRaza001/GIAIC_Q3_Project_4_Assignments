{
  "nbformat": 4,
  "nbformat_minor": 0,
  "metadata": {
    "colab": {
      "provenance": []
    },
    "kernelspec": {
      "name": "python3",
      "display_name": "Python 3"
    },
    "language_info": {
      "name": "python"
    }
  },
  "cells": [
    {
      "cell_type": "markdown",
      "source": [
        "# **Homework Projects**"
      ],
      "metadata": {
        "id": "CACHIBfUroe7"
      }
    },
    {
      "cell_type": "markdown",
      "source": [
        "## **04 Dictionaries**\n"
      ],
      "metadata": {
        "id": "qg7FwbVLrwBQ"
      }
    },
    {
      "cell_type": "markdown",
      "source": [
        "**00 Count Nums**\n",
        "\n",
        "Problem Statement\n",
        "\n",
        "This program counts the number of times each number appears in a list. It uses a dictionary to keep track of the information.\n",
        "\n",
        "An example run of the program looks like this (user input is in blue):\n",
        "\n",
        "Enter a number: 3 Enter a number: 4 Enter a number: 3 Enter a number: 6 Enter a number: 4 Enter a number: 3 Enter a number: 12 Enter a number: 3 appears 3 times. 4 appears 2 times. 6 appears 1 times. 12 appears 1 times."
      ],
      "metadata": {
        "id": "-zLb1yUHr5tJ"
      }
    },
    {
      "cell_type": "code",
      "execution_count": null,
      "metadata": {
        "colab": {
          "base_uri": "https://localhost:8080/"
        },
        "id": "PGNEmpejrf_x",
        "outputId": "910ebfe6-689c-4075-a36b-7dcf5aa894bb"
      },
      "outputs": [
        {
          "output_type": "stream",
          "name": "stdout",
          "text": [
            "Enter a number: 4\n",
            "Enter a number: 4\n",
            "Enter a number: 6\n",
            "Enter a number: \n",
            "4 appears 2 times.\n",
            "6 appears 1 times.\n"
          ]
        }
      ],
      "source": [
        "def get_num_lst():\n",
        "  user_nums = []\n",
        "  while True:\n",
        "    user_input = input(\"Enter a number: \")\n",
        "    if user_input == \"\":\n",
        "      break\n",
        "    user_nums.append(int(user_input))\n",
        "  return user_nums\n",
        "\n",
        "def count_nums(num_lst):\n",
        "  num_dcit = {}\n",
        "  for num in num_lst:\n",
        "    if num in num_dcit:\n",
        "      num_dcit[num] += 1\n",
        "    else:\n",
        "      num_dcit[num] = 1\n",
        "  return num_dcit\n",
        "\n",
        "def print_nums(num_dict):\n",
        "  for num, count in num_dict.items():\n",
        "    print(f\"{num} appears {count} times.\")\n",
        "\n",
        "def main():\n",
        "  user_nums = get_num_lst()\n",
        "  num_dict = count_nums(user_nums)\n",
        "  print_nums(num_dict)\n",
        "\n",
        "if __name__ == \"__main__\":\n",
        "  main()\n"
      ]
    },
    {
      "cell_type": "markdown",
      "source": [
        "**01 Phone Book**\n",
        "\n",
        "Problem Statement\n",
        "\n",
        "In this program we show an example of using dictionaries to keep track of information in a phonebook."
      ],
      "metadata": {
        "id": "uCNk_CAAZlDU"
      }
    },
    {
      "cell_type": "code",
      "source": [
        "def get_phone_num():\n",
        "  phone_book = {}\n",
        "  while True:\n",
        "    name = input(\"Enter a name: \")\n",
        "    if name == \"\":\n",
        "      break\n",
        "    phone_num = input(\"Enter a phone number: \")\n",
        "    phone_book[name] = phone_num\n",
        "    return phone_book\n",
        "\n",
        "def print_phone_num(phone_book):\n",
        "  for name, phone_num in phone_book.items():\n",
        "    print(f\"{name}: {phone_num}\")\n",
        "\n",
        "def find_phone_num(phone_book):\n",
        "  while True:\n",
        "    name = input('enter a name to find phone number ')\n",
        "    if name == '':\n",
        "      break\n",
        "    elif name not in phone_book:\n",
        "      print(f'{name} is not in phone book')\n",
        "    else:\n",
        "      print(phone_book[name])\n",
        "\n",
        "def main():\n",
        "  phone_book = get_phone_num()\n",
        "  print_phone_num(phone_book)\n",
        "  find_phone_num(phone_book)\n",
        "\n",
        "\n",
        "if __name__ == \"__main__\":\n",
        "  main()"
      ],
      "metadata": {
        "colab": {
          "base_uri": "https://localhost:8080/"
        },
        "id": "_M9hB-qidVmi",
        "outputId": "b87f0069-cba1-4e78-e564-e69c43495ccf"
      },
      "execution_count": null,
      "outputs": [
        {
          "name": "stdout",
          "output_type": "stream",
          "text": [
            "Enter a name: jamil\n",
            "Enter a phone number: 89045234510\n",
            "jamil: 89045234510\n",
            "enter a name to find phone numberjamil\n",
            "89045234510\n",
            "enter a name to find phone number\n"
          ]
        }
      ]
    },
    {
      "cell_type": "markdown",
      "source": [
        "**02 Pop Up Shop**\n",
        "\n",
        "Problem Statement\n",
        "\n",
        "There's a small fruit shop nearby your house that you like to buy from. Since you buy several fruit at a time, you want to keep track of how much the fruit will cost before you go. Luckily you wrote down what fruits were available and how much one of each fruit costs.\n",
        "\n",
        "Write a program that loops through a dictionary of fruits, prompting the user to see how many of each fruit they want to buy, and then prints out the total combined cost of all of the fruits.\n",
        "\n",
        "Here is an example run of the program (user input is in bold italics):\n",
        "\n",
        "How many (apple) do you want?: 2\n",
        "\n",
        "How many (durian) do you want?: 0\n",
        "\n",
        "How many (jackfruit) do you want?: 1\n",
        "\n",
        "How many (kiwi) do you want?: 0\n",
        "\n",
        "How many (rambutan) do you want?: 1\n",
        "\n",
        "How many (mango) do you want?: 3\n",
        "\n",
        "Your total is $99.5"
      ],
      "metadata": {
        "id": "Fn7b3HomMKQm"
      }
    },
    {
      "cell_type": "code",
      "source": [
        "friuts = [{'name':'apple','prize':10},{'name':'durian','prize':20},{'name':'jackfruit','prize':30},{'name':'kiwi','prize':40},{'name':'rambutan','prize':50},{'name':'mango','prize':60}]\n",
        "\n",
        "def total_amt(lst):\n",
        "  total = 0\n",
        "  for friut in friuts:\n",
        "    amt = int(input(f\"How many ({friut['name']}) do you want?: \"))\n",
        "    total += amt * friut['prize']\n",
        "  return total\n",
        "\n",
        "if __name__ == \"__main__\":\n",
        "  print(f\"Your total is ${total_amt(friuts)}\")"
      ],
      "metadata": {
        "colab": {
          "base_uri": "https://localhost:8080/"
        },
        "id": "f_vGkhwFLsYN",
        "outputId": "9ece3338-836e-4170-895e-9398f82a6f29"
      },
      "execution_count": null,
      "outputs": [
        {
          "output_type": "stream",
          "name": "stdout",
          "text": [
            "How many (apple) do you want?: 2\n",
            "How many (durian) do you want?: 2\n",
            "How many (jackfruit) do you want?: 2\n",
            "How many (kiwi) do you want?: 2\n",
            "How many (rambutan) do you want?: 2\n",
            "How many (mango) do you want?: 2\n",
            "Your total is $420\n"
          ]
        }
      ]
    },
    {
      "cell_type": "markdown",
      "source": [
        "**03 Powerful Passwords**\n",
        "\n",
        "Problem Statement\n",
        "\n",
        "You want to be safe online and use different passwords for different websites. However, you are forgetful at times and want to make a program that can match which password belongs to which website without storing the actual password!\n",
        "\n",
        "This can be done via something called hashing. Hashing is when we take something and convert it into a different, unique identifier. This is done using a hash function. Luckily, there are several resources that can help us with this.\n",
        "\n",
        "For example, using a hash function called SHA256(...) something as simple as\n",
        "\n",
        "hello\n",
        "\n",
        "can be hashed into a much more complex\n",
        "\n",
        "2cf24dba5fb0a30e26e83b2ac5b9e29e1b161e5c1fa7425e73043362938b9824\n",
        "\n",
        "Fill out the login(...) function for a website that hashes their passwords. Login should return True if an email's stored password hash in stored_logins is the same as the hash of password_to_check.\n",
        "\n",
        "(Hint. You will need to use the provided hash_password(...) function. You don't necessarily need to know how it works, just know that hash_password(...) returns the hash for the password!)"
      ],
      "metadata": {
        "id": "OeroMjBGPGWM"
      }
    },
    {
      "cell_type": "code",
      "source": [
        "from hashlib import sha256\n",
        "\n",
        "def login(email,stored_logins,password_check):\n",
        "  if stored_logins[email]== hash_password(password_check):\n",
        "    return True\n",
        "\n",
        "  return False\n",
        "\n",
        "def hash_password(password):\n",
        "  return sha256(password.encode()).hexdigest()\n",
        "\n",
        "def main():\n",
        "     stored_logins = {\n",
        "        \"example@gmail.com\": \"5e884898da28047151d0e56f8dc6292773603d0d6aabbdd62a11ef721d1542d8\",\n",
        "        \"code_in_placer@cip.org\": \"973607a4ae7b4cf7d96a100b0fb07e8519cc4f70441d41214a9f811577bb06cc\",\n",
        "        \"student@stanford.edu\": \"882c6df720fd99f5eebb1581a1cf975625cea8a160283011c0b9512bb56c95fb\"\n",
        "    }\n",
        "\n",
        "     print(login(\"example@gmail.com\", stored_logins, \"word\"))\n",
        "     print(login(\"example@gmail.com\", stored_logins, \"password\"))\n",
        "\n",
        "     print(login(\"code_in_placer@cip.org\", stored_logins, \"Karel\"))\n",
        "     print(login(\"code_in_placer@cip.org\", stored_logins, \"karel\"))\n",
        "\n",
        "     print(login(\"student@stanford.edu\", stored_logins, \"password\"))\n",
        "     print(login(\"student@stanford.edu\", stored_logins, \"123!456?789\"))\n",
        "\n",
        "\n",
        "if __name__ == \"__main__\":\n",
        "  main()"
      ],
      "metadata": {
        "id": "OBtN4ga0Oyfg",
        "colab": {
          "base_uri": "https://localhost:8080/"
        },
        "outputId": "00811aa0-ecaf-42e1-cfcf-ea1c2b25422d"
      },
      "execution_count": 2,
      "outputs": [
        {
          "output_type": "stream",
          "name": "stdout",
          "text": [
            "False\n",
            "True\n",
            "False\n",
            "True\n",
            "False\n",
            "True\n"
          ]
        }
      ]
    },
    {
      "cell_type": "code",
      "source": [],
      "metadata": {
        "id": "1eyUCQdHkH3p"
      },
      "execution_count": null,
      "outputs": []
    }
  ]
}