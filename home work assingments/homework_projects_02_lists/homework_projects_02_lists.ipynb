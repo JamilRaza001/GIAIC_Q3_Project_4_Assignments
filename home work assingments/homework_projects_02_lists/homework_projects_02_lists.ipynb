{
  "nbformat": 4,
  "nbformat_minor": 0,
  "metadata": {
    "colab": {
      "provenance": []
    },
    "kernelspec": {
      "name": "python3",
      "display_name": "Python 3"
    },
    "language_info": {
      "name": "python"
    }
  },
  "cells": [
    {
      "cell_type": "markdown",
      "source": [
        "# **Homework Projects**"
      ],
      "metadata": {
        "id": "CzSN3b55IHvT"
      }
    },
    {
      "cell_type": "markdown",
      "source": [
        "## **02** Lists"
      ],
      "metadata": {
        "id": "xpY7IL6AIN0g"
      }
    },
    {
      "cell_type": "markdown",
      "source": [
        "**01 Add Many Number**\n",
        "\n",
        "Problem Statement\n",
        "\n",
        "Write a function that takes a list of numbers and returns the sum of those numbers."
      ],
      "metadata": {
        "id": "SrGwzgMdIXZ7"
      }
    },
    {
      "cell_type": "code",
      "execution_count": null,
      "metadata": {
        "colab": {
          "base_uri": "https://localhost:8080/"
        },
        "id": "j9ZL7EijIBqM",
        "outputId": "61857fae-3c26-4469-be42-d3c9a1e5e1a2"
      },
      "outputs": [
        {
          "output_type": "stream",
          "name": "stdout",
          "text": [
            "The total of num_lst is 36\n"
          ]
        }
      ],
      "source": [
        "def adding_two_num(nums)->int:\n",
        "  total_num:int = 0\n",
        "  for num in nums:\n",
        "    total_num += num\n",
        "  return total_num\n",
        "\n",
        "def main():\n",
        "  num_lst:list[int] = [1,2,3,4,5,6,7,8]\n",
        "  sum_num:int = adding_two_num(num_lst)\n",
        "  print(f'The total of num_lst is {sum_num}')\n",
        "\n",
        "if __name__ == '__main__':\n",
        "  main()"
      ]
    },
    {
      "cell_type": "markdown",
      "source": [
        "**02 Double List**\n",
        "\n",
        "Problem Statement\n",
        "\n",
        "Write a program that doubles each element in a list of numbers. For example, if you start with this list:\n",
        "\n",
        "numbers = [1, 2, 3, 4]\n",
        "\n",
        "You should end with this list:\n",
        "\n",
        "numbers = [2, 4, 6, 8]"
      ],
      "metadata": {
        "id": "vJTvAL8LKmlP"
      }
    },
    {
      "cell_type": "code",
      "source": [
        "num_lst:list[int] = [1,2,3,4,5,6,7,8]\n",
        "double_num_lst: list[int] = []\n",
        "\n",
        "def double_num(nums):\n",
        "  for num in nums:\n",
        "    double_num_lst.append(num * 2)\n",
        "  print(double_num_lst)\n",
        "\n",
        "double_num(num_lst)"
      ],
      "metadata": {
        "colab": {
          "base_uri": "https://localhost:8080/"
        },
        "id": "yESD0bCRKfh_",
        "outputId": "1ee450b4-b42a-4078-89fd-3ccc5f75c041"
      },
      "execution_count": null,
      "outputs": [
        {
          "output_type": "stream",
          "name": "stdout",
          "text": [
            "[2, 4, 6, 8, 10, 12, 14, 16]\n"
          ]
        }
      ]
    },
    {
      "cell_type": "markdown",
      "source": [
        "**03 Erase Canvas**\n",
        "\n",
        "Problem Statement\n",
        "\n",
        "Implement an 'eraser' on a canvas.\n",
        "\n",
        "The canvas consists of a grid of blue 'cells' which are drawn as rectangles on the screen. We then create an eraser rectangle which, when dragged around the canvas, sets all of the rectangles it is in contact with to white."
      ],
      "metadata": {
        "id": "x9l8HwW-LxsE"
      }
    },
    {
      "cell_type": "markdown",
      "source": [
        "Support for third party widgets will remain active for the duration of the session. To disable support:"
      ],
      "metadata": {
        "id": "6wowjHZVSMNS"
      }
    },
    {
      "cell_type": "code",
      "source": [],
      "metadata": {
        "id": "uJgn2iMcSmFe"
      },
      "execution_count": null,
      "outputs": []
    },
    {
      "cell_type": "markdown",
      "source": [
        "**04 Flowing With Data Structures**\n",
        "\n",
        "Problem Statement\n",
        "\n",
        "In the information flow lesson, we discussed using a variable storing a number as an example of scope. We saw that changes we made to the number inside a function did not stay unless we returned it. This is true for what we call immutable data types which include things like numbers and strings.\n",
        "\n",
        "However, there are also mutable data types where changes stay even if we don't return anything. Some examples of mutable data types are lists and dictionaries. This means that you should be mindful when modifying lists and dictionaries within helper functions since their changes stay whether or not you return them.\n",
        "\n",
        "To see this in action, fill out the add_three_copies(...) function which takes a list and some data and then adds three copies of the data to the list. Don't return anything and see what happens! Compare this process to the x = change(x) example and note the differences.\n",
        "\n",
        "Here is an example run of this program (user input in bold italics):\n",
        "\n",
        "Enter a message to copy: Hello world!\n",
        "\n",
        "List before: []\n",
        "\n",
        "List after: ['Hello world!', 'Hello world!', 'Hello world!']\n",
        "\n",
        "(Note. The concept of immutable/mutable data types is called mutability. Be careful because different programming languages have different rules regarding mutability!)"
      ],
      "metadata": {
        "id": "hBR1PgrSQ8rx"
      }
    },
    {
      "cell_type": "code",
      "source": [
        "def add_three_copies(lst, data):\n",
        "  for i in range(3):\n",
        "    lst.append(data)\n",
        "\n",
        "def main():\n",
        "  message = input('Enter a message to copy: ')\n",
        "  lst = []\n",
        "  print('Before list: ',lst)\n",
        "  add_three_copies(lst,message)\n",
        "  print('After lsit: ',lst)\n",
        "\n",
        "if __name__ == '__main__':\n",
        "  main()"
      ],
      "metadata": {
        "colab": {
          "base_uri": "https://localhost:8080/"
        },
        "id": "49PtUJTWRbax",
        "outputId": "1e4f3ccc-d6fc-4d00-be2e-c3a80312fc8d"
      },
      "execution_count": 5,
      "outputs": [
        {
          "output_type": "stream",
          "name": "stdout",
          "text": [
            "Enter a message to copy: kia hal \n",
            "Before list:  []\n",
            "After lsit:  ['kia hal ', 'kia hal ', 'kia hal ']\n"
          ]
        }
      ]
    },
    {
      "cell_type": "markdown",
      "source": [
        "**05 Get First Element**\n",
        "\n",
        "Problem Statement\n",
        "\n",
        "Fill out the function get_first_element(lst) which takes in a list lst as a parameter and prints the first element in the list. The list is guaranteed to be non-empty. We've written some code for you which prompts the user to input the list one element at a time."
      ],
      "metadata": {
        "id": "NXMXcdaZTZmm"
      }
    },
    {
      "cell_type": "code",
      "source": [
        "def get_first_ele(lst):\n",
        "    print(lst[0])\n",
        "\n",
        "def get_lst():\n",
        "    lst = []\n",
        "    ele = input('Enter an element in list or press enter to stop: ')\n",
        "\n",
        "    while ele != '':\n",
        "        lst.append(ele)\n",
        "        ele = input('Enter an element in list or press enter to stop: ')\n",
        "\n",
        "    return lst\n",
        "\n",
        "def main():\n",
        "    lst = get_lst()\n",
        "    if len(lst) == 0:\n",
        "        print('List is empty')\n",
        "    else:\n",
        "        get_first_ele(lst)\n",
        "\n",
        "if __name__ == '__main__':\n",
        "    main()\n",
        ""
      ],
      "metadata": {
        "colab": {
          "base_uri": "https://localhost:8080/"
        },
        "id": "uFswje0sTKgf",
        "outputId": "d811fd0e-93fa-40cc-9b37-822dd6fd0968"
      },
      "execution_count": 11,
      "outputs": [
        {
          "output_type": "stream",
          "name": "stdout",
          "text": [
            "Enter an element in list or press enter to stop: \n",
            "List is empty\n"
          ]
        }
      ]
    },
    {
      "cell_type": "markdown",
      "source": [
        "**06 Get Last Element**\n",
        "\n",
        "Problem Statement\n",
        "\n",
        "Fill out the function get_last_element(lst) which takes in a list lst as a parameter and prints the last element in the list. The list is guaranteed to be non-empty, but there are no guarantees on its length."
      ],
      "metadata": {
        "id": "YvIpfd19XTIU"
      }
    },
    {
      "cell_type": "code",
      "source": [],
      "metadata": {
        "id": "6vEETvhOVWMJ"
      },
      "execution_count": null,
      "outputs": []
    },
    {
      "cell_type": "code",
      "source": [
        "def get_last_ele(lst):\n",
        "    print(lst[-1])\n",
        "\n",
        "def get_lst():\n",
        "    lst = []\n",
        "    ele = input('Enter an element in list or press enter to stop: ')\n",
        "\n",
        "    while ele != '':\n",
        "        lst.append(ele)\n",
        "        ele = input('Enter an element in list or press enter to stop: ')\n",
        "\n",
        "    return lst\n",
        "\n",
        "def main():\n",
        "    lst = get_lst()\n",
        "    if len(lst) == 0:\n",
        "        print('List is empty')\n",
        "    else:\n",
        "        get_last_ele(lst)\n",
        "\n",
        "if __name__ == '__main__':\n",
        "    main()\n"
      ],
      "metadata": {
        "colab": {
          "base_uri": "https://localhost:8080/"
        },
        "outputId": "e0f7318d-7022-43e8-b568-2b40f71e24a4",
        "id": "JeCzKtdcXvwV"
      },
      "execution_count": 12,
      "outputs": [
        {
          "output_type": "stream",
          "name": "stdout",
          "text": [
            "Enter an element in list or press enter to stop: jam\n",
            "Enter an element in list or press enter to stop: jam\n",
            "Enter an element in list or press enter to stop: raa\n",
            "Enter an element in list or press enter to stop: \n",
            "raa\n"
          ]
        }
      ]
    },
    {
      "cell_type": "markdown",
      "source": [
        "**07 Get List**\n",
        "\n",
        "Problem Statement\n",
        "\n",
        "Write a program which continuously asks the user to enter values which are added one by one into a list. When the user presses enter without typing anything, print the list.\n",
        "\n",
        "Here's a sample run (user input is in blue):\n",
        "\n",
        "Enter a value: 1 Enter a value: 2 Enter a value: 3 Enter a value: Here's the list: ['1', '2', '3']"
      ],
      "metadata": {
        "id": "JhalylkqYKQG"
      }
    },
    {
      "cell_type": "code",
      "source": [
        "def get_lst():\n",
        "    lst = []\n",
        "    ele = input('Enter an element in list or press enter to stop: ')\n",
        "\n",
        "    while ele != '':\n",
        "        lst.append(ele)\n",
        "        ele = input('Enter an element in list or press enter to stop: ')\n",
        "\n",
        "    print(lst)\n",
        "\n",
        "if __name__ == '__main__':\n",
        "  get_lst()"
      ],
      "metadata": {
        "colab": {
          "base_uri": "https://localhost:8080/"
        },
        "id": "PzSv5CYBX45R",
        "outputId": "335dfe0e-2967-43cd-d78a-f888209551e5"
      },
      "execution_count": 13,
      "outputs": [
        {
          "output_type": "stream",
          "name": "stdout",
          "text": [
            "Enter an element in list or press enter to stop: jam\n",
            "Enter an element in list or press enter to stop: jam\n",
            "Enter an element in list or press enter to stop: kanf\n",
            "Enter an element in list or press enter to stop: eag\n",
            "Enter an element in list or press enter to stop: \n",
            "['jam', 'jam', 'kanf', 'eag']\n"
          ]
        }
      ]
    },
    {
      "cell_type": "markdown",
      "source": [
        "**08 Shorten**\n",
        "\n",
        "Problem Statement\n",
        "\n",
        "Fill out the function shorten(lst) which removes elements from the end of lst, which is a list, and prints each item it removes until lst is MAX_LENGTH items long. If lst is already shorter than MAX_LENGTH you should leave it unchanged. We've written a main() function for you which gets a list and passes it into your function once you run the program. For the autograder to pass you will need MAX_LENGTH to be 3, but feel free to change it around to test your program."
      ],
      "metadata": {
        "id": "yDZjglY-eolw"
      }
    },
    {
      "cell_type": "code",
      "source": [
        "max_length = 5\n",
        "\n",
        "def get_lst():\n",
        "    lst = []\n",
        "    ele = input('Enter an element in list or press enter to stop: ')\n",
        "\n",
        "    while ele != '':\n",
        "        lst.append(ele)\n",
        "        ele = input('Enter an element in list or press enter to stop: ')\n",
        "\n",
        "    return lst\n",
        "\n",
        "\n",
        "def shorten_lst(lst):\n",
        "  while len(lst) > max_length:\n",
        "    last_ele =lst.pop()\n",
        "    print(last_ele)\n",
        "\n",
        "\n",
        "\n",
        "def main():\n",
        "  lst=get_lst()\n",
        "  shorten_lst(lst)\n",
        "\n",
        "if __name__ == '__main__':\n",
        "  main()"
      ],
      "metadata": {
        "colab": {
          "base_uri": "https://localhost:8080/"
        },
        "id": "xOY0wSFvYta6",
        "outputId": "5d3c246f-00cb-4191-ab75-2abddb602e8b"
      },
      "execution_count": 21,
      "outputs": [
        {
          "output_type": "stream",
          "name": "stdout",
          "text": [
            "Enter an element in list or press enter to stop: jam\n",
            "Enter an element in list or press enter to stop: kam\n",
            "Enter an element in list or press enter to stop: lam\n",
            "Enter an element in list or press enter to stop: pam\n",
            "Enter an element in list or press enter to stop: oam\n",
            "Enter an element in list or press enter to stop: iam\n",
            "Enter an element in list or press enter to stop: \n",
            "iam\n"
          ]
        }
      ]
    },
    {
      "cell_type": "code",
      "source": [],
      "metadata": {
        "id": "8eKdz8mofq_9"
      },
      "execution_count": null,
      "outputs": []
    }
  ]
}