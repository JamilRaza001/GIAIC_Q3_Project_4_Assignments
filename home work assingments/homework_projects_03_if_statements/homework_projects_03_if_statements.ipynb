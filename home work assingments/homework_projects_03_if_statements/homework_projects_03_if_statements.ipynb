{
  "nbformat": 4,
  "nbformat_minor": 0,
  "metadata": {
    "colab": {
      "provenance": []
    },
    "kernelspec": {
      "name": "python3",
      "display_name": "Python 3"
    },
    "language_info": {
      "name": "python"
    }
  },
  "cells": [
    {
      "cell_type": "markdown",
      "source": [
        "# **03 IF Statements**\n"
      ],
      "metadata": {
        "id": "HN1WeG0Ei0Rx"
      }
    },
    {
      "cell_type": "markdown",
      "source": [
        "**01 Print Events**\n",
        "\n",
        "Problem Statement\n",
        "\n",
        "Write a program that prints the first 20 even numbers. There are several correct approaches, but they all use a loop of some sort. Do no write twenty print statements\n",
        "\n",
        "The first even number is 0:\n",
        "\n",
        "0 2 4 6 8 10 12 14 16 18 20 22 24 26 28 30 32 34 36 38"
      ],
      "metadata": {
        "id": "R8ZqU9frjEIz"
      }
    },
    {
      "cell_type": "code",
      "execution_count": null,
      "metadata": {
        "colab": {
          "base_uri": "https://localhost:8080/"
        },
        "id": "LNdkkPiiiyn_",
        "outputId": "8bed2c81-b043-4227-c4c7-f2b1d22f534b"
      },
      "outputs": [
        {
          "output_type": "stream",
          "name": "stdout",
          "text": [
            "[0, 2, 4, 6, 8, 10, 12, 14, 16, 18, 20, 22, 24, 26, 28, 30, 32, 34, 36, 38]\n"
          ]
        }
      ],
      "source": [
        "lst = []\n",
        "\n",
        "def even_num():\n",
        "  for i in range(40):\n",
        "    if i % 2 == 0:\n",
        "      lst.append(i)\n",
        "\n",
        "  print(lst)\n",
        "\n",
        "if __name__ == '__main__':\n",
        "  even_num()"
      ]
    },
    {
      "cell_type": "markdown",
      "source": [
        "**02 International Voting Age**\n",
        "\n",
        "Problem Statement\n",
        "\n",
        "Write a program which asks a user for their age and lets them know if they can or can't vote in the following three fictional countries.\n",
        "\n",
        "Around the world, different countries have different voting ages. In the fictional countries of Peturksbouipo, Stanlau, and Mayengua, the voting ages are very different:\n",
        "\n",
        "the voting age in Peturksbouipo is 16 (in real life, this is the voting age in, for example, Scotland, Ethiopia, and Austria)\n",
        "\n",
        "the voting age in Stanlau is 25 (in real life this is the voting age in the United Arab Emirates)\n",
        "\n",
        "the voting age in Mayengua is 48 (in real life, as far as we can tell, this isn't the voting age anywhere)\n",
        "\n",
        "Your code should prompt the for their age and print whether or not they can vote in Peturksbouipo, Stanlau, or Mayengua.\n",
        "\n",
        "Here's a sample run of the program (user input is in blue):\n",
        "\n",
        "How old are you? 20 You can vote in Peturksbouipo where the voting age is 16. You cannot vote in Stanlau where the voting age is 25. You cannot vote in Mayengua where the voting age is 48."
      ],
      "metadata": {
        "id": "64zwKAdwkd7U"
      }
    },
    {
      "cell_type": "code",
      "source": [
        "Peturksbouipo_age = 16\n",
        "Stanlau_age = 25\n",
        "Mayengua_age = 48\n",
        "\n",
        "def voting_age():\n",
        "    age = int(input(\"How old are you? \"))\n",
        "\n",
        "    if age < Peturksbouipo_age:\n",
        "        print(f'''You cannot vote in Peturksbouipo (voting age: {Peturksbouipo_age}),\n",
        "You cannot vote in Stanlau (voting age: {Stanlau_age}),\n",
        "You cannot vote in Mayengua (voting age: {Mayengua_age}).''')\n",
        "\n",
        "    elif Peturksbouipo_age <= age < Stanlau_age:\n",
        "        print(f'''You can vote in Peturksbouipo (voting age: {Peturksbouipo_age}),\n",
        "You cannot vote in Stanlau (voting age: {Stanlau_age}),\n",
        "You cannot vote in Mayengua (voting age: {Mayengua_age}).''')\n",
        "\n",
        "    elif Stanlau_age <= age < Mayengua_age:\n",
        "        print(f'''You can vote in Peturksbouipo (voting age: {Peturksbouipo_age}),\n",
        "You can vote in Stanlau (voting age: {Stanlau_age}),\n",
        "You cannot vote in Mayengua (voting age: {Mayengua_age}).''')\n",
        "\n",
        "    else:\n",
        "        print(f'''You can vote in Peturksbouipo (voting age: {Peturksbouipo_age}),\n",
        "You can vote in Stanlau voting age: {Stanlau_age},\n",
        "You can vote in Mayengua voting age: {Mayengua_age}.''')\n",
        "\n",
        "if __name__ == '__main__':\n",
        "    voting_age()\n",
        "\n",
        "\n"
      ],
      "metadata": {
        "colab": {
          "base_uri": "https://localhost:8080/"
        },
        "id": "Cz9Hj9jEj7_J",
        "outputId": "b9959784-9ab0-4d3f-a22e-ebe6a5a079ab"
      },
      "execution_count": null,
      "outputs": [
        {
          "output_type": "stream",
          "name": "stdout",
          "text": [
            "How old are you? 44\n",
            "You can vote in Peturksbouipo (voting age: 16),\n",
            "You can vote in Stanlau (voting age: 25),\n",
            "You cannot vote in Mayengua (voting age: 48).\n"
          ]
        }
      ]
    },
    {
      "cell_type": "markdown",
      "source": [
        "**03 Leap Year**\n",
        "\n",
        "Problem Statement\n",
        "\n",
        "Write a program that reads a year from the user and tells whether a given year is a leap year or not.\n",
        "\n",
        "A leap year (also known as an intercalary year or bissextile year) is a calendar year that contains an additional day (or, in the case of a lunisolar calendar, a month) added to keep the calendar year synchronized with the astronomical year or seasonal year. In the Gregorian calendar, each leap year has 366 days instead of 365, by extending February to 29 days rather than the common 28.\n",
        "\n",
        "In the Gregorian calendar, three criteria must be checked to identify leap years:\n",
        "\n",
        "The given year must be evenly divisible by 4;\n",
        "If the year can also be evenly divided by 100, it is NOT a leap year; unless:\n",
        "The year is also evenly divisible by 400. Then it is a leap year.\n",
        "Your code should use the above criteria to check for a leap year and then print either \"That's a leap year!\" or \"That's not a leap year.\""
      ],
      "metadata": {
        "id": "IVf4hOzCDEYA"
      }
    },
    {
      "cell_type": "code",
      "source": [
        "def leap_year():\n",
        "  user_year = int(input('Enter a year: '))\n",
        "\n",
        "  if user_year % 4 == 0:\n",
        "    if user_year % 100 == 0:\n",
        "      if user_year % 400 == 0:\n",
        "        print('That\\'s a leap year!')\n",
        "      else:\n",
        "        print('That\\'s not a leap year!')\n",
        "    else:\n",
        "      print('That\\'s a leap year!')\n",
        "  else:\n",
        "    print('That\\'s not a leap year!')\n",
        "\n",
        "if __name__ == '__main__':\n",
        "  leap_year()\n"
      ],
      "metadata": {
        "id": "oRPH8VFsm1xb",
        "colab": {
          "base_uri": "https://localhost:8080/"
        },
        "outputId": "a922590c-0dc2-4f86-918f-4f3a47ee7e2b"
      },
      "execution_count": null,
      "outputs": [
        {
          "output_type": "stream",
          "name": "stdout",
          "text": [
            "Enter a year: 2002\n",
            "That's not a leap year!\n"
          ]
        }
      ]
    },
    {
      "cell_type": "markdown",
      "source": [
        "04 Tall Enough To Ride\n",
        "\n",
        "Problem Statement\n",
        "\n",
        "Write a program which asks the user how tall they are and prints whether or not they're taller than a pre-specified minimum height.\n",
        "\n",
        "In amusement parks (ah, the good old pre-pandemic days...), rollercoasters frequently have minimum height requirements for safety reasons. Assume for now that the minimum height is 50 of whatever height unit you'd like\n",
        "\n",
        "Here's two sample runs (user input is in bold italics):\n",
        "\n",
        "How tall are you? 100\n",
        "\n",
        "You're tall enough to ride!\n",
        "\n",
        "How tall are you? 10\n",
        "\n",
        "You're not tall enough to ride, but maybe next year!\n",
        "\n",
        "(For an extra challenge, write code which will repeatedly ask a user how tall they are and tell them whether or not they're tall enough to ride, until the user doesn't enter a height at all, in which case the program stops. Curious about how to do this? See the function tall_enough_extension() in the solution code!)\n"
      ],
      "metadata": {
        "id": "Vjv2yasYFRNh"
      }
    },
    {
      "cell_type": "code",
      "source": [
        "def tall_enough():\n",
        "    minimum_height = 50\n",
        "    while True:\n",
        "        user_input = input('How tall are you? ')\n",
        "\n",
        "        if user_input == '':\n",
        "            break\n",
        "\n",
        "        try:\n",
        "            user_height = float(user_input)\n",
        "        except ValueError:\n",
        "            print(\"Invalid input. Please enter a valid number!\")\n",
        "            continue\n",
        "\n",
        "        if user_height >= minimum_height:\n",
        "            print(\"You're tall enough to ride!\")\n",
        "        else:\n",
        "            print(\"You're not tall enough to ride!\")\n",
        "\n",
        "if __name__ == '__main__':\n",
        "    tall_enough()"
      ],
      "metadata": {
        "id": "kCwQzMoQEsRt",
        "colab": {
          "base_uri": "https://localhost:8080/"
        },
        "outputId": "811d4b7b-e567-4552-ad35-b3376a032442"
      },
      "execution_count": 6,
      "outputs": [
        {
          "name": "stdout",
          "output_type": "stream",
          "text": [
            "How tall are you? 56\n",
            "You're tall enough to ride!\n",
            "How tall are you? 56\n",
            "You're tall enough to ride!\n",
            "How tall are you? 23\n",
            "You're not tall enough to ride!\n",
            "How tall are you? \n"
          ]
        }
      ]
    },
    {
      "cell_type": "markdown",
      "source": [
        "**05 Random Numbers**\n",
        "\n",
        "Problem Statement\n",
        "\n",
        "Print 10 random numbers in the range 1 to 100.\n",
        "\n",
        "Here is an example run:\n",
        "\n",
        "45 79 61 47 52 10 16 83 19 12\n",
        "\n",
        "Each time you run your program you should get different numbers\n",
        "\n",
        "81 76 70 1 27 63 96 100 32 92\n",
        "\n",
        "Recall that the python random library has a function randint which returns an integer in the range set by the parameters (inclusive). For example this call would produce a random integer between 1 and 6, which could include 1 and could include 6:\n",
        "\n",
        "value = random.randint(1, 6)"
      ],
      "metadata": {
        "id": "cNUHcPsvqACY"
      }
    },
    {
      "cell_type": "code",
      "source": [
        "import random\n",
        "def random_num():\n",
        "  for i in range(10):\n",
        "    print(random.randint(1, 100), end=' ')\n",
        "\n",
        "if __name__ == '__main__':\n",
        "  random_num()"
      ],
      "metadata": {
        "colab": {
          "base_uri": "https://localhost:8080/"
        },
        "id": "3iwZFIl-mH34",
        "outputId": "f46fc3ba-c6db-4e6e-aebf-265c39d0f6cd"
      },
      "execution_count": 9,
      "outputs": [
        {
          "output_type": "stream",
          "name": "stdout",
          "text": [
            "2 31 27 54 24 36 82 76 86 21 "
          ]
        }
      ]
    },
    {
      "cell_type": "code",
      "source": [],
      "metadata": {
        "id": "6mQpjNWjqqyZ"
      },
      "execution_count": 8,
      "outputs": []
    }
  ]
}