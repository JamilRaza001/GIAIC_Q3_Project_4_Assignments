{
  "nbformat": 4,
  "nbformat_minor": 0,
  "metadata": {
    "colab": {
      "provenance": []
    },
    "kernelspec": {
      "name": "python3",
      "display_name": "Python 3"
    },
    "language_info": {
      "name": "python"
    }
  },
  "cells": [
    {
      "cell_type": "markdown",
      "source": [
        "# **Homework Projects**"
      ],
      "metadata": {
        "id": "m4ykH-toxUdx"
      }
    },
    {
      "cell_type": "markdown",
      "source": [
        "## **05 Loops Control Flow**"
      ],
      "metadata": {
        "id": "3En_IityxaWD"
      }
    },
    {
      "cell_type": "markdown",
      "source": [
        "**00 Guess My Number**\n",
        "\n",
        "Problem Statement\n",
        "\n",
        "Guess My Number\n",
        "\n",
        "I am thinking of a number between 0 and 99... Enter a guess: 50 Your guess is too high\n",
        "\n",
        "Enter a new number: 25 Your guess is too low\n",
        "\n",
        "Enter a new number: 40 Your guess is too low\n",
        "\n",
        "Enter a new number: 45 Your guess is too low\n",
        "\n",
        "Enter a new number: 48 Congrats! The number was: 48"
      ],
      "metadata": {
        "id": "nh5GbOpPxspU"
      }
    },
    {
      "cell_type": "code",
      "execution_count": 5,
      "metadata": {
        "colab": {
          "base_uri": "https://localhost:8080/"
        },
        "id": "FOwETii8xSau",
        "outputId": "2cb5d82c-f2b9-43fd-e0cf-b471cf84a1e0"
      },
      "outputs": [
        {
          "name": "stdout",
          "output_type": "stream",
          "text": [
            "Guess My Number in range of 0 to 99: 80\n",
            "Your guess is too high\n",
            "Enter a new number: 70\n",
            "Your guess is too high\n",
            "Enter a new number: 60\n",
            "Your guess is too low\n",
            "Enter a new number: 65\n",
            "Your guess is too low\n",
            "Enter a new number: 67\n",
            "Your guess is too high\n",
            "Enter a new number: 66\n"
          ]
        }
      ],
      "source": [
        "import random\n",
        "\n",
        "def guss_num():\n",
        "  win_num = random.randint(0, 99)\n",
        "  guess = int(input(\"Guess My Number in range of 0 to 99: \"))\n",
        "\n",
        "  while guess != win_num:\n",
        "    if guess > win_num:\n",
        "        print(\"Your guess is too high\")\n",
        "        guess = int(input(\"Enter a new number: \"))\n",
        "\n",
        "    elif guess < win_num:\n",
        "      print(\"Your guess is too low\")\n",
        "      guess = int(input(\"Enter a new number: \"))\n",
        "\n",
        "    elif guess == win_num:\n",
        "      print(\"Congrats! The number was:\", win_num)\n",
        "\n",
        "      break\n",
        "\n",
        "    else:\n",
        "      print('Enter a valid number')\n",
        "\n",
        "\n",
        "if __name__ == '__main__':\n",
        "  guss_num()\n"
      ]
    },
    {
      "cell_type": "markdown",
      "source": [
        "**01 fibonacci.**\n",
        "\n",
        "Problem Statement\n",
        "\n",
        "Write a program to print terms in the Fibonacci sequence up to a maximum value.\n",
        "\n",
        "In the 13th century, the Italian mathematician Leonardo Fibonacci, as a way to explain the geometric growth of a population of rabbits, devised a mathematical sequence that now bears his name. The first two terms in this sequence, Fib(0) and Fib(1), are 0 and 1, and every subsequent term is the sum of the preceding two. Thus, the first several terms in the Fibonacci sequence look like this:\n",
        "\n",
        "Fib(0) = 0 Fib(1) = 1 Fib(2) = 1 = 0 + 1 Fib(3) = 2 = 1 + 1 Fib(4) = 3 = 1 + 2 Fib(5) = 5 = 2 + 3\n",
        "\n",
        "Write a program that displays the terms in the Fibonacci sequence, starting with Fib(0) and continuing as long as the terms are less than 10,000 (you should store this value as a constant!). Thus, your program should produce the following sample run:\n",
        "\n",
        "0 1 1 2 3 5 8 13 21 34 55 89 144 233 377 610 987 1597 2584 4181 6765"
      ],
      "metadata": {
        "id": "PSJzyLbI0fKh"
      }
    },
    {
      "cell_type": "code",
      "source": [
        "max_lengt_val = 10000\n",
        "\n",
        "def main():\n",
        "  curr_term = 0\n",
        "  next_term = 1\n",
        "\n",
        "  while curr_term <= max_lengt_val:\n",
        "    print(curr_term)\n",
        "    term_after = curr_term + next_term\n",
        "    curr_term = next_term\n",
        "    next_term = term_after\n",
        "\n",
        "if __name__ == '__main__':\n",
        "  main()"
      ],
      "metadata": {
        "colab": {
          "base_uri": "https://localhost:8080/"
        },
        "id": "MG46QwE3zELR",
        "outputId": "fe21bced-3166-458f-ed87-65bfa9287a8a"
      },
      "execution_count": 6,
      "outputs": [
        {
          "output_type": "stream",
          "name": "stdout",
          "text": [
            "0\n",
            "1\n",
            "1\n",
            "2\n",
            "3\n",
            "5\n",
            "8\n",
            "13\n",
            "21\n",
            "34\n",
            "55\n",
            "89\n",
            "144\n",
            "233\n",
            "377\n",
            "610\n",
            "987\n",
            "1597\n",
            "2584\n",
            "4181\n",
            "6765\n"
          ]
        }
      ]
    },
    {
      "cell_type": "markdown",
      "source": [
        "**02 Print Events**\n",
        "\n",
        "Problem Statement\n",
        "\n",
        "Write a program that prints the first 20 even numbers. There are several correct approaches, but they all use a loop of some sort. Do no write twenty print statements\n",
        "\n",
        "The first even number is 0:\n",
        "\n",
        "0 2 4 6 8 10 12 14 16 18 20 22 24 26 28 30 32 34 36 38"
      ],
      "metadata": {
        "id": "IyOzIakw1_kr"
      }
    },
    {
      "cell_type": "code",
      "source": [
        "def even_num():\n",
        "  for i in range(20):\n",
        "    print(i*2)\n",
        "\n",
        "if __name__ == '__main__':\n",
        "  even_num()"
      ],
      "metadata": {
        "colab": {
          "base_uri": "https://localhost:8080/"
        },
        "id": "-0BiRqkO12ou",
        "outputId": "4b7738bc-5af8-4d0f-8141-1006404199eb"
      },
      "execution_count": 1,
      "outputs": [
        {
          "output_type": "stream",
          "name": "stdout",
          "text": [
            "0\n",
            "2\n",
            "4\n",
            "6\n",
            "8\n",
            "10\n",
            "12\n",
            "14\n",
            "16\n",
            "18\n",
            "20\n",
            "22\n",
            "24\n",
            "26\n",
            "28\n",
            "30\n",
            "32\n",
            "34\n",
            "36\n",
            "38\n"
          ]
        }
      ]
    },
    {
      "cell_type": "markdown",
      "source": [
        "05 Loops Control Flow\n",
        "\n",
        "Problem Statement\n",
        "\n",
        "Write a program which prompts the user to type an affirmation of your choice (we'll use \"I am capable of doing anything I put my mind to.\") until they type it correctly. Sometimes, especially in the midst of such uncertain times, we just need to be reminded that we are resilient, capable, and strong; this little Python program may be able to help!\n",
        "\n",
        "Here's a sample run of the program (user input is in blue):\n",
        "\n",
        "Please type the following affirmation: I am capable of doing anything I put my mind to. Hmmm That was not the affirmation. Please type the following affirmation: I am capable of doing anything I put my mind to. I am capable of doing anything I put my mind to. That's right! :)\n",
        "\n",
        "Note that you can call input() with no prompt and it will still wait for a user to type something!"
      ],
      "metadata": {
        "id": "rlBrfarHHEuu"
      }
    },
    {
      "cell_type": "code",
      "source": [
        "affirmation = \"I am capable of doing anything I put my mind to.\"\n",
        "\n",
        "def main():\n",
        "  user_input = input(f'Please type the following affirmation: {affirmation}')\n",
        "\n",
        "  while user_input != affirmation:\n",
        "    print(\"Hmmm That was not the affirmation. Please type the following affirmation:\")\n",
        "    user_input = input(f'Please type the following affirmation: {affirmation}')\n",
        "\n",
        "  print(\"That's right\")\n",
        "\n",
        "if __name__ == '__main__':\n",
        "  main()"
      ],
      "metadata": {
        "colab": {
          "base_uri": "https://localhost:8080/"
        },
        "id": "L6iKx8YYG6Kl",
        "outputId": "4b0a5ef0-e1f4-487c-fbe7-328a66924170"
      },
      "execution_count": 2,
      "outputs": [
        {
          "output_type": "stream",
          "name": "stdout",
          "text": [
            "Please type the following affirmation: I am capable of doing anything I put my mind to.I am capable of doing anything I put my mind to.\n",
            "That's right\n"
          ]
        }
      ]
    },
    {
      "cell_type": "markdown",
      "source": [
        "**04 Liftoff**\n",
        "\n",
        "Problem Statement\n",
        "\n",
        "Write a program that prints out the calls for a spaceship that is about to launch. Countdown from 10 to 1 and then output Liftoff!\n",
        "\n",
        "Here's a sample run of the program:\n",
        "\n",
        "10 9 8 7 6 5 4 3 2 1 Liftoff!\n",
        "\n",
        "There are many ways to solve this problem. One approach is to use a for loop, and to use the for loop variable i. Recall that i will keep track of how many times the for loop has completed executing its body. As an example this code:\n",
        "\n",
        "for i in range(10): print(i)\n",
        "\n",
        "Will print out the values 0, 1, 2, 3, 4, 5, 6, 7, 8, 9. The values printed in liftoff are 10 minus the number of times the for loop has completed."
      ],
      "metadata": {
        "id": "jiPMdGmgJR7K"
      }
    },
    {
      "cell_type": "code",
      "source": [
        "def lift_off():\n",
        "  for i in range(10,0,-1):\n",
        "    print(i)\n",
        "  print(\"Liftoff!\")\n",
        "\n",
        "if __name__ == '__main__':\n",
        "  lift_off()"
      ],
      "metadata": {
        "colab": {
          "base_uri": "https://localhost:8080/"
        },
        "id": "E9y9RNRlJH9U",
        "outputId": "601a855a-661c-4538-a9cf-19f6fba6f9d7"
      },
      "execution_count": 8,
      "outputs": [
        {
          "output_type": "stream",
          "name": "stdout",
          "text": [
            "10\n",
            "9\n",
            "8\n",
            "7\n",
            "6\n",
            "5\n",
            "4\n",
            "3\n",
            "2\n",
            "1\n",
            "Liftoff!\n"
          ]
        }
      ]
    },
    {
      "cell_type": "markdown",
      "source": [
        "**05 Double It**\n",
        "\n",
        "Problem Statement\n",
        "\n",
        "Write a program that asks a user to enter a number. Your program will then double that number and print out the result. It will repeat that process until the value is 100 or greater.\n",
        "\n",
        "For example if the user enters the number 2 you would then print:\n",
        "\n",
        "4 8 16 32 64 128\n",
        "\n",
        "Note that:\n",
        "\n",
        "2 doubled is 4\n",
        "\n",
        "4 doubled is 8\n",
        "\n",
        "8 doubled is 16\n",
        "\n",
        "and so on.\n",
        "\n",
        "We stop at 128 because that value is greater than 100.\n",
        "\n",
        "Maintain the current number in a variable named curr_value. When you double the number, you should be updating curr_value. Recall that you can double the value of curr_value using a line like:\n",
        "\n",
        "curr_value = curr_value * 2\n",
        "\n",
        "This program should have a while loop and the while loop condition should test if curr_value is less than 100. Thus, your program will have the line:\n",
        "\n",
        "while curr_value < 100:"
      ],
      "metadata": {
        "id": "ULOy0UXfLEkQ"
      }
    },
    {
      "cell_type": "code",
      "source": [
        "def double_num():\n",
        "  curr_value = int(input(\"Enter a number: \"))\n",
        "\n",
        "  while curr_value <= 100:\n",
        "    print(curr_value)\n",
        "    curr_value = curr_value * 2\n",
        "\n",
        "  print(curr_value)\n",
        "if __name__ == '__main__':\n",
        "  double_num()"
      ],
      "metadata": {
        "colab": {
          "base_uri": "https://localhost:8080/"
        },
        "id": "8CBRVmlpKL1K",
        "outputId": "a9eb00ae-412e-409b-c04c-13baa0e7ce51"
      },
      "execution_count": 11,
      "outputs": [
        {
          "output_type": "stream",
          "name": "stdout",
          "text": [
            "Enter a number: 3\n",
            "3\n",
            "6\n",
            "12\n",
            "24\n",
            "48\n",
            "96\n",
            "192\n"
          ]
        }
      ]
    },
    {
      "cell_type": "code",
      "source": [],
      "metadata": {
        "id": "I3SIAs2GYQpD"
      },
      "execution_count": null,
      "outputs": []
    }
  ]
}