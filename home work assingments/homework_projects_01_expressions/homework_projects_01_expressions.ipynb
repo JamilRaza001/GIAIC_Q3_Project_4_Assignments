{
  "nbformat": 4,
  "nbformat_minor": 0,
  "metadata": {
    "colab": {
      "provenance": []
    },
    "kernelspec": {
      "name": "python3",
      "display_name": "Python 3"
    },
    "language_info": {
      "name": "python"
    }
  },
  "cells": [
    {
      "cell_type": "markdown",
      "source": [
        "# **Homework Projects**"
      ],
      "metadata": {
        "id": "ULAkJI17RCsj"
      }
    },
    {
      "cell_type": "markdown",
      "source": [
        "## **01 Expressions**"
      ],
      "metadata": {
        "id": "nQlDGwWuQ7aX"
      }
    },
    {
      "cell_type": "markdown",
      "source": [
        "**01 Dicesimulator**\n",
        "\n",
        "Problem Statement\n",
        "\n",
        "Simulate rolling two dice, three times. Prints the results of each die roll. This program is used to show how variable scope works."
      ],
      "metadata": {
        "id": "L3NgovSrQ6jQ"
      }
    },
    {
      "cell_type": "code",
      "execution_count": 17,
      "metadata": {
        "colab": {
          "base_uri": "https://localhost:8080/"
        },
        "id": "2MGY0mL4LeU-",
        "outputId": "a70e8d80-888e-49ad-df80-dd0b01f73e9a"
      },
      "outputs": [
        {
          "output_type": "stream",
          "name": "stdout",
          "text": [
            "\n",
            "Deice roll #1\n",
            "Die 1: 4\n",
            "Die 2: 6\n",
            "\n",
            "Deice roll #2\n",
            "Die 1: 6\n",
            "Die 2: 6\n",
            "\n",
            "Deice roll #3\n",
            "Die 1: 5\n",
            "Die 2: 4\n"
          ]
        }
      ],
      "source": [
        "import random\n",
        "\n",
        "def rolling_dice():\n",
        "  diec1 = random.randint(1, 6)\n",
        "  diec2 = random.randint(1, 6)\n",
        "  print(f\"Die 1: {diec1}\")\n",
        "  print(f\"Die 2: {diec2}\")\n",
        "\n",
        "def main():\n",
        "  for i in range(3):\n",
        "    print(f\"\\nDeice roll #{i+1}\")\n",
        "    rolling_dice()\n",
        "\n",
        "if __name__ == \"__main__\":\n",
        "  main()"
      ]
    },
    {
      "cell_type": "markdown",
      "source": [
        "**02 E=MC2**\n",
        "\n",
        "Problem Statement\n",
        "\n",
        "Write a program that continually reads in mass from the user and then outputs the equivalent energy using Einstein's mass-energy equivalence formula (E stands for energy, m stands for mass, and C is the speed of light:\n",
        "\n",
        "E = m * c**2\n",
        "\n",
        "Almost 100 years ago, Albert Einstein famously discovered that mass and energy are interchangeable and are related by the above equation. You should ask the user for mass (m) in kilograms and use a constant value for the speed of light -- C = 299792458 m/s.\n",
        "\n",
        "Here's a sample run of the program (user input is in bold italics):\n",
        "\n",
        "Enter kilos of mass: 100\n",
        "\n",
        "e = m * C^2...\n",
        "\n",
        "m = 100.0 kg\n",
        "\n",
        "C = 299792458 m/s\n",
        "\n",
        "8.987551787368176e+18 joules of energy!"
      ],
      "metadata": {
        "id": "9dnvVurUVFGU"
      }
    },
    {
      "cell_type": "code",
      "source": [
        "C:int = 299792458 # the speed of light m/s\n",
        "\n",
        "def energy_output():\n",
        "  m:float = float(input(\"Enter mass in kilos: \"))\n",
        "  e:float = m * C**2\n",
        "  print(f\"e = m * C^2\\nm = {m} kg\\nC = {C} m/s\\ne = {e} joules of energy!\")\n",
        "\n",
        "if __name__ == \"__main__\":\n",
        "  energy_output()"
      ],
      "metadata": {
        "colab": {
          "base_uri": "https://localhost:8080/"
        },
        "id": "bZm3dCutReSB",
        "outputId": "7ce6d769-18df-43ea-8757-596bad4e72e7"
      },
      "execution_count": 18,
      "outputs": [
        {
          "output_type": "stream",
          "name": "stdout",
          "text": [
            "Enter mass in kilos: 101\n",
            "e = m * C^2\n",
            "m = 101.0 kg\n",
            "C = 299792458 m/s\n",
            "e = 9.077427305241858e+18 joules of energy!\n"
          ]
        }
      ]
    },
    {
      "cell_type": "markdown",
      "source": [
        "**03 Feet To Inches**\n",
        "\n",
        "Problem Statement\n",
        "\n",
        "Converts feet to inches. Feet is an American unit of measurement. There are 12 inches per foot. Foot is the singular, and feet is the plural."
      ],
      "metadata": {
        "id": "SBMkm6QC3WDb"
      }
    },
    {
      "cell_type": "code",
      "source": [
        "def feet_to_inches():\n",
        "  feet:float = float(input(\"Enter a number: \"))\n",
        "  inches:float = feet * 12\n",
        "  print(f\"{feet} feet is equal to {inches} inches.\")\n",
        "\n",
        "if __name__ == '__main__':\n",
        "  feet_to_inches()"
      ],
      "metadata": {
        "colab": {
          "base_uri": "https://localhost:8080/"
        },
        "id": "l52gqd4_25Sh",
        "outputId": "db31b1c3-2373-4d63-8b85-11f769604769"
      },
      "execution_count": 19,
      "outputs": [
        {
          "output_type": "stream",
          "name": "stdout",
          "text": [
            "Enter a number: 12\n",
            "12.0 feet is equal to 144.0 inches.\n"
          ]
        }
      ]
    },
    {
      "cell_type": "markdown",
      "source": [
        "**04 Pythagorean Theorem**\n",
        "\n",
        "Problem Statement\n",
        "\n",
        "Write a program that asks the user for the lengths of the two perpendicular sides of a right triangle and outputs the length of the third side (the hypotenuse) using the Pythagorean theorem!\n",
        "\n",
        "The Pythagorean theorem, named after the ancient Greek thinker, Pythagoras, is a fundamental relation in geometry. It states that in a right triangle, the square of the hypotenuse is equal to the sum of the square of the other two sides.\n",
        "\n",
        "For instance, let's consider a right triangle ABC, with the right angle located at C. According to the Pythagorean theorem:\n",
        "\n",
        "BC ** 2 = AB ** 2 + AC ** 2\n",
        "\n",
        "Your code should read in the lengths of the sides AB and AC, and that outputs the length of the hypotenuse (BC). You will probably find math.sqrt() to be useful.\n",
        "\n",
        "Here's a sample run of the program (user input is in bold italics):\n",
        "\n",
        "Enter the length of AB: 3\n",
        "\n",
        "Enter the length of AC: 4\n",
        "\n",
        "The length of BC (the hypotenuse) is: 5.0"
      ],
      "metadata": {
        "id": "-DHxu_ep4xI5"
      }
    },
    {
      "cell_type": "code",
      "source": [
        "import math\n",
        "\n",
        "def pythagorean_theorem():\n",
        "  ab:float = float(input(\"Enter the length of AB: \"))\n",
        "  ac:float = float(input(\"Enter the length of AC: \"))\n",
        "  bc:float = math.sqrt(ab**2 + ac**2)\n",
        "  print(f\"The length of BC (the hypotenuse) is: {bc}\")\n",
        "\n",
        "if __name__ == \"__main__\":\n",
        "  pythagorean_theorem()\n"
      ],
      "metadata": {
        "colab": {
          "base_uri": "https://localhost:8080/"
        },
        "id": "CSe217nk4OSR",
        "outputId": "e53876f1-f0f5-4a8b-a8b3-2f9397bd43c9"
      },
      "execution_count": 20,
      "outputs": [
        {
          "output_type": "stream",
          "name": "stdout",
          "text": [
            "Enter the length of AB: 43\n",
            "Enter the length of AC: 467\n",
            "The length of BC (the hypotenuse) is: 468.97547910311897\n"
          ]
        }
      ]
    },
    {
      "cell_type": "markdown",
      "source": [
        "**05 Remainder Division**\n",
        "\n",
        "Problem Statement\n",
        "\n",
        "Ask the user for two numbers, one at a time, and then print the result of dividing the first number by the second and also the remainder of the division.\n",
        "\n",
        "Here's a sample run of the program (user input is in bold italics):\n",
        "\n",
        "Please enter an integer to be divided: 5\n",
        "\n",
        "Please enter an integer to divide by: 3\n",
        "\n",
        "The result of this division is 1 with a remainder of 2"
      ],
      "metadata": {
        "id": "xn8NH0dN5uKY"
      }
    },
    {
      "cell_type": "code",
      "source": [
        "def remainder_division():\n",
        "  integer1:int = int(input(\"Please enter an integer to be divided: \"))\n",
        "  integer2:int = int(input(\"Please enter an integer to divide by: \"))\n",
        "  result:int = integer1 // integer2\n",
        "  remainder:int = integer1 % integer2\n",
        "  print(f\"The result of this division is {result} with a remainder of {remainder}\")\n",
        "\n",
        "if __name__ == \"__main__\":\n",
        "  remainder_division()"
      ],
      "metadata": {
        "colab": {
          "base_uri": "https://localhost:8080/"
        },
        "id": "oM896FP35nGh",
        "outputId": "25bdd78b-4d85-44ef-9817-6691c76bc329"
      },
      "execution_count": 23,
      "outputs": [
        {
          "output_type": "stream",
          "name": "stdout",
          "text": [
            "Please enter an integer to be divided: 57\n",
            "Please enter an integer to divide by: 8\n",
            "The result of this division is 7 with a remainder of 1\n"
          ]
        }
      ]
    },
    {
      "cell_type": "markdown",
      "source": [
        "**06 Rolldice**\n",
        "\n",
        "Problem Statement\n",
        "\n",
        "Simulate rolling two dice, and prints results of each roll as well as the total."
      ],
      "metadata": {
        "id": "dVw6Q55C6pnT"
      }
    },
    {
      "cell_type": "code",
      "source": [
        "def rolling_dice_add():\n",
        "  dice_1 = random.randint(1, 6)\n",
        "  dice_2 = random.randint(1, 6)\n",
        "  print(f\"The roll of deice #1 is {dice_1}, The roll of deice #2 is {dice_2} and the total of both is {dice_1 + dice_2}\")\n",
        "\n",
        "if __name__ == \"__main__\":\n",
        "  rolling_dice_add()"
      ],
      "metadata": {
        "colab": {
          "base_uri": "https://localhost:8080/"
        },
        "id": "Tpe0-Emc6T9L",
        "outputId": "e3776986-2fd4-455e-f187-f3cb372efcf6"
      },
      "execution_count": 26,
      "outputs": [
        {
          "output_type": "stream",
          "name": "stdout",
          "text": [
            "The roll of deice #1 is 2, The roll of deice #2 is 4 and the total of both is 6\n"
          ]
        }
      ]
    },
    {
      "cell_type": "markdown",
      "source": [
        "**07 Tiny Mad Lib**\n",
        "\n",
        "Problem Statement\n",
        "\n",
        "Write a program which prompts the user for an adjective, then a noun, then a verb, and then prints a fun sentence with those words!\n",
        "\n",
        "Mad Libs is a word game where players are prompted for one word at a time, and the words are eventually filled into the blanks of a word template to make an entertaining story! We've provided you with the beginning of a sentence (the SENTENCE_START constant) which will end in a user-inputted adjective, noun, and then verb.\n",
        "\n",
        "Here's a sample run (user input is in bold italics):\n",
        "\n",
        "Please type an adjective and press enter. tiny\n",
        "\n",
        "Please type a noun and press enter. plant\n",
        "\n",
        "Please type a verb and press enter. fly\n",
        "\n",
        "Code in Place is fun. I learned to program and used Python to make my tiny plant fly!"
      ],
      "metadata": {
        "id": "BFjnXIYy8yfQ"
      }
    },
    {
      "cell_type": "code",
      "source": [
        "def tiny_mad_lib():\n",
        "  adjective = input(\"Please enter Adjective \")\n",
        "  noun = input(\"Please enter Noun. \")\n",
        "  verb = input(\"Please enter a Verb. \")\n",
        "  sentence = f\"Code in Place is fun. I learned to program and used Python to make my {noun} {verb}!\"\n",
        "  print(sentence)\n",
        "\n",
        "if __name__ == \"__main__\":\n",
        "  tiny_mad_lib()\n"
      ],
      "metadata": {
        "colab": {
          "base_uri": "https://localhost:8080/"
        },
        "id": "FReDEhcz7Lcb",
        "outputId": "208b07cd-4e13-414f-d4e2-49b43b9e4fdd"
      },
      "execution_count": 27,
      "outputs": [
        {
          "output_type": "stream",
          "name": "stdout",
          "text": [
            "Please enter Adjective big \n",
            "Please enter Noun. cat\n",
            "Please enter a Verb. dig\n",
            "Code in Place is fun. I learned to program and used Python to make my cat dig!\n"
          ]
        }
      ]
    },
    {
      "cell_type": "code",
      "source": [],
      "metadata": {
        "id": "JZ9VPPdK9_Sm"
      },
      "execution_count": null,
      "outputs": []
    }
  ]
}