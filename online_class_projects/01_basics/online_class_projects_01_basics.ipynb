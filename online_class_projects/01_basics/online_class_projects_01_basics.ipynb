{
  "nbformat": 4,
  "nbformat_minor": 0,
  "metadata": {
    "colab": {
      "provenance": []
    },
    "kernelspec": {
      "name": "python3",
      "display_name": "Python 3"
    },
    "language_info": {
      "name": "python"
    }
  },
  "cells": [
    {
      "cell_type": "markdown",
      "source": [
        "# **Online Class Projects**\n",
        "\n"
      ],
      "metadata": {
        "id": "PHFu-q4F2644"
      }
    },
    {
      "cell_type": "markdown",
      "source": [
        "## **01 Basics**"
      ],
      "metadata": {
        "id": "9hO_PNWb3BwU"
      }
    },
    {
      "cell_type": "markdown",
      "source": [
        "**00 Joke Bot**\n",
        "\n",
        "\n",
        "Problem Statement\n",
        "\n",
        "Write a simple joke bot. The bot starts by asking the user what they want. However, your program will only respond to one response: Joke.\n",
        "\n",
        "If the user enters Joke then we will print out a single joke. Each time the joke is always the same:\n",
        "\n",
        "Here is a joke for you! Panaversity GPT - Sophia is heading out to the grocery store. A programmer tells her: get a liter of milk, and if they have eggs, get 12. Sophia returns with 13 liters of milk. The programmer asks why and Sophia replies: 'because they had eggs'\n",
        "\n",
        "If the user enters anything else we print out:\n",
        "\n",
        "Sorry I only tell jokes\n",
        "\n",
        "You should use the three constants:\n",
        "\n",
        "PROMPT JOKE SORRY\n",
        "\n",
        "which contain the strings for the prompt asked to the user, the joke to print out if the user enters Joke and the sorry message if the user enters anything else.\n",
        "\n",
        "Your program will need to use an if statement which checks if the user input is Joke:\n",
        "\n",
        "if user_input == \"Joke\":\n",
        "\n",
        "Recall that == is a comparison which tests if two values are equal to one another.\n",
        "\n",
        "Here is a full run of the program (user input is in blue):\n",
        "\n",
        "What do you want? Joke Here is a joke for you! Panaversity GPT - Sophia is heading out to the grocery store. A programmer tells her: get a liter of milk, and if they have eggs, get 12. Sophia returns with 13 liters of milk. The programmer asks why and Sophia replies: 'because they had eggs'"
      ],
      "metadata": {
        "id": "zEBy41Dc3PAR"
      }
    },
    {
      "cell_type": "code",
      "execution_count": 5,
      "metadata": {
        "colab": {
          "base_uri": "https://localhost:8080/"
        },
        "id": "9mqQ_D622x-V",
        "outputId": "4a68cf21-2c34-4e07-abd4-a4139a5fa51d"
      },
      "outputs": [
        {
          "output_type": "stream",
          "name": "stdout",
          "text": [
            "What do you want? joke\n",
            "Here is a joke for you\n",
            " Panaversity GPT - Sophia is heading out to the grocery store. A programmer tells her: get a liter of milk, and if they have eggs, get 12. Sophia returns with 13 liters of milk. The programmer asks why and Sophia replies: 'because they had eggs'\n"
          ]
        }
      ],
      "source": [
        "def joke_bot():\n",
        "  joke = \"Panaversity GPT - Sophia is heading out to the grocery store. A programmer tells her: get a liter of milk, and if they have eggs, get 12. Sophia returns with 13 liters of milk. The programmer asks why and Sophia replies: 'because they had eggs'\"\n",
        "  user_input = input(\"What do you want? \").lower().strip()\n",
        "  if user_input == \"joke\":\n",
        "    print('Here is a joke for you\\n',joke)\n",
        "  else:\n",
        "    print(\"Sorry I only tell jokes\")\n",
        "\n",
        "\n",
        "if __name__ == \"__main__\":\n",
        "  joke_bot()\n"
      ]
    },
    {
      "cell_type": "markdown",
      "source": [
        "**01 Double It**\n",
        "\n",
        "Problem Statement\n",
        "Write a program that asks a user to enter a number. Your program will then double that number and print out the result. It will repeat that process until the value is 100 or greater.\n",
        "\n",
        "For example if the user enters the number 2 you would then print:\n",
        "\n",
        "4 8 16 32 64 128\n",
        "\n",
        "Note that:\n",
        "\n",
        "2 doubled is 4\n",
        "\n",
        "4 doubled is 8\n",
        "\n",
        "8 doubled is 16\n",
        "\n",
        "and so on.\n",
        "\n",
        "We stop at 128 because that value is greater than 100.\n",
        "\n",
        "Maintain the current number in a variable named curr_value. When you double the number, you should be updating curr_value. Recall that you can double the value of curr_value using a line like:\n",
        "\n",
        "curr_value = curr_value * 2\n",
        "\n",
        "This program should have a while loop and the while loop condition should test if curr_value is less than 100. Thus, your program will have the line:\n",
        "\n",
        "while curr_value < 100:"
      ],
      "metadata": {
        "id": "JDJS5a5I40ej"
      }
    },
    {
      "cell_type": "code",
      "source": [
        "def double_it():\n",
        "  curr_value = int(input(\"Enter a number: \"))\n",
        "  while curr_value <= 100:\n",
        "    curr_value = curr_value * 2\n",
        "    print(curr_value)\n",
        "\n",
        "if __name__ == \"__main__\":\n",
        "  double_it()"
      ],
      "metadata": {
        "colab": {
          "base_uri": "https://localhost:8080/"
        },
        "id": "ocaH8ThD4R_Y",
        "outputId": "8c954c7d-5fff-4429-a3cf-982253714901"
      },
      "execution_count": 6,
      "outputs": [
        {
          "output_type": "stream",
          "name": "stdout",
          "text": [
            "Enter a number: 5\n",
            "10\n",
            "20\n",
            "40\n",
            "80\n",
            "160\n"
          ]
        }
      ]
    },
    {
      "cell_type": "markdown",
      "source": [
        "**02 Liftoff**\n",
        "\n",
        "Problem Statement\n",
        "\n",
        "Write a program that prints out the calls for a spaceship that is about to launch. Countdown from 10 to 1 and then output Liftoff!\n",
        "\n",
        "Here's a sample run of the program:\n",
        "\n",
        "10 9 8 7 6 5 4 3 2 1 Liftoff!\n",
        "\n",
        "There are many ways to solve this problem. One approach is to use a for loop, and to use the for loop variable i. Recall that i will keep track of how many times the for loop has completed executing its body. As an example this code:\n",
        "\n",
        "for i in range(10): print(i)\n",
        "\n",
        "Will print out the values 0, 1, 2, 3, 4, 5, 6, 7, 8, 9. The values printed in liftoff are 10 minus the number of times the for loop has completed."
      ],
      "metadata": {
        "id": "mJgfCoLP5N3v"
      }
    },
    {
      "cell_type": "code",
      "source": [
        "def liftoff():\n",
        "  for i in range(10,0,-1):\n",
        "    print(i)\n",
        "  print(\"Liftoff!\")\n",
        "\n",
        "if __name__ == \"__main__\":\n",
        "  liftoff()"
      ],
      "metadata": {
        "colab": {
          "base_uri": "https://localhost:8080/"
        },
        "id": "-rrAZ03E5GYF",
        "outputId": "e81f991f-ea95-47f0-d82d-e60d095aa1bf"
      },
      "execution_count": 7,
      "outputs": [
        {
          "output_type": "stream",
          "name": "stdout",
          "text": [
            "10\n",
            "9\n",
            "8\n",
            "7\n",
            "6\n",
            "5\n",
            "4\n",
            "3\n",
            "2\n",
            "1\n",
            "Liftoff!\n"
          ]
        }
      ]
    },
    {
      "cell_type": "markdown",
      "source": [
        "**03 Guess My Number**\n",
        "\n",
        "Problem Statement\n",
        "\n",
        "Guess My Number\n",
        "\n",
        "I am thinking of a number between 0 and 99... Enter a guess: 50 Your guess is too high\n",
        "\n",
        "Enter a new number: 25 Your guess is too low\n",
        "\n",
        "Enter a new number: 40 Your guess is too low\n",
        "\n",
        "Enter a new number: 45 Your guess is too low\n",
        "\n",
        "Enter a new number: 48 Congrats! The number was: 48"
      ],
      "metadata": {
        "id": "ixuWPBYn5dFB"
      }
    },
    {
      "cell_type": "code",
      "source": [
        "import random\n",
        "\n",
        "def guess_my_number():\n",
        "    number = random.randint(0, 99)\n",
        "    while True:\n",
        "        try:\n",
        "            guess = int(input(\"guess a number between 0 and 99... Enter a guess: \"))\n",
        "        except ValueError:\n",
        "            print(\"Invalid input, please enter a valid integer.\")\n",
        "            continue\n",
        "\n",
        "        if guess < 0 or guess > 99:\n",
        "            print(\"Please enter a number within the range 0 to 99.\")\n",
        "            continue\n",
        "\n",
        "        if guess > number:\n",
        "            print(\"Your guess is too high.\")\n",
        "        elif guess < number:\n",
        "            print(\"Your guess is too low.\")\n",
        "        else:\n",
        "            print(\"Congrats! The number was:\", number)\n",
        "            break\n",
        "\n",
        "if __name__ == \"__main__\":\n",
        "    guess_my_number()"
      ],
      "metadata": {
        "colab": {
          "base_uri": "https://localhost:8080/"
        },
        "id": "JDl2TWmf5v7p",
        "outputId": "a63592c7-c27c-4fe6-8876-4a0a7f459fb5"
      },
      "execution_count": 10,
      "outputs": [
        {
          "output_type": "stream",
          "name": "stdout",
          "text": [
            "guess a number between 0 and 99... Enter a guess: 45\n",
            "Your guess is too low.\n",
            "guess a number between 0 and 99... Enter a guess: 55\n",
            "Your guess is too low.\n",
            "guess a number between 0 and 99... Enter a guess: 65\n",
            "Your guess is too low.\n",
            "guess a number between 0 and 99... Enter a guess: 75\n",
            "Your guess is too low.\n",
            "guess a number between 0 and 99... Enter a guess: 85\n",
            "Your guess is too low.\n",
            "guess a number between 0 and 99... Enter a guess: 95\n",
            "Your guess is too low.\n",
            "guess a number between 0 and 99... Enter a guess: 96\n",
            "Your guess is too low.\n",
            "guess a number between 0 and 99... Enter a guess: 97\n",
            "Your guess is too low.\n",
            "guess a number between 0 and 99... Enter a guess: 98\n",
            "Your guess is too low.\n",
            "guess a number between 0 and 99... Enter a guess: 99\n",
            "Congrats! The number was: 99\n"
          ]
        }
      ]
    },
    {
      "cell_type": "markdown",
      "source": [
        "**04 Random Numbers**\n",
        "\n",
        "Problem Statement\n",
        "\n",
        "Print 10 random numbers in the range 1 to 100.\n",
        "\n",
        "Here is an example run:\n",
        "\n",
        "45 79 61 47 52 10 16 83 19 12\n",
        "\n",
        "Each time you run your program you should get different numbers\n",
        "\n",
        "81 76 70 1 27 63 96 100 32 92\n",
        "\n",
        "Recall that the python random library has a function randint which returns an integer in the range set by the parameters (inclusive). For example this call would produce a random integer between 1 and 6, which could include 1 and could include 6:\n",
        "\n",
        "value = random.randint(1, 6)"
      ],
      "metadata": {
        "id": "TPKl00jc7unR"
      }
    },
    {
      "cell_type": "code",
      "source": [
        "from os import lstat\n",
        "import random\n",
        "\n",
        "lst = []\n",
        "def random_numbers():\n",
        "\n",
        "  for i in range(10):\n",
        "    lst.append(random.randint(1,100))\n",
        "\n",
        "  print(*lst)\n",
        "if __name__ == \"__main__\":\n",
        "  random_numbers()"
      ],
      "metadata": {
        "colab": {
          "base_uri": "https://localhost:8080/"
        },
        "id": "evcg08Kb6uXM",
        "outputId": "aa641e47-cd52-400a-d376-e3e06522cf5f"
      },
      "execution_count": 12,
      "outputs": [
        {
          "output_type": "stream",
          "name": "stdout",
          "text": [
            "20 70 64 80 62 35 96 98 40 92\n"
          ]
        }
      ]
    },
    {
      "cell_type": "code",
      "source": [],
      "metadata": {
        "id": "ojSEoYjG8H0U"
      },
      "execution_count": null,
      "outputs": []
    }
  ]
}